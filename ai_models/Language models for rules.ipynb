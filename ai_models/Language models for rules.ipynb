{
 "cells": [
  {
   "cell_type": "markdown",
   "id": "744c5f05-2561-419f-ae79-6ff038ce351c",
   "metadata": {},
   "source": [
    "## Yo'l harakat qoidalari jarimalari bilan  \n",
    "\n",
    "Link: https://uzpdd.uz/lotin/jarimalar.php "
   ]
  },
  {
   "cell_type": "code",
   "execution_count": 5,
   "id": "4e1c10d9-1b43-4439-ab1a-0b3962403335",
   "metadata": {},
   "outputs": [],
   "source": [
    "import pandas as pd \n",
    "from sentence_transformers import SentenceTransformer, util\n",
    "\n",
    "jarimalar_data = pd.read_csv(\"jarimalar.csv\") "
   ]
  },
  {
   "cell_type": "code",
   "execution_count": 2,
   "id": "5d6fa58d-43d6-4385-89dd-2ae7cef1d99a",
   "metadata": {},
   "outputs": [
    {
     "data": {
      "text/html": [
       "<div>\n",
       "<style scoped>\n",
       "    .dataframe tbody tr th:only-of-type {\n",
       "        vertical-align: middle;\n",
       "    }\n",
       "\n",
       "    .dataframe tbody tr th {\n",
       "        vertical-align: top;\n",
       "    }\n",
       "\n",
       "    .dataframe thead th {\n",
       "        text-align: right;\n",
       "    }\n",
       "</style>\n",
       "<table border=\"1\" class=\"dataframe\">\n",
       "  <thead>\n",
       "    <tr style=\"text-align: right;\">\n",
       "      <th></th>\n",
       "      <th>Tartib</th>\n",
       "      <th>Qoidabuzarlik</th>\n",
       "      <th>Kodeks</th>\n",
       "      <th>jarima_bhm</th>\n",
       "      <th>jarima_total</th>\n",
       "    </tr>\n",
       "  </thead>\n",
       "  <tbody>\n",
       "    <tr>\n",
       "      <th>0</th>\n",
       "      <td>1</td>\n",
       "      <td>Haydovchilarning transport vositalarini boshqa...</td>\n",
       "      <td>125-modda</td>\n",
       "      <td>0.5</td>\n",
       "      <td>187500</td>\n",
       "    </tr>\n",
       "    <tr>\n",
       "      <th>1</th>\n",
       "      <td>2</td>\n",
       "      <td>Haydovchilarning belgilangan tartibda ro‘yxatd...</td>\n",
       "      <td>125-modda</td>\n",
       "      <td>0.5</td>\n",
       "      <td>187500</td>\n",
       "    </tr>\n",
       "    <tr>\n",
       "      <th>2</th>\n",
       "      <td>3</td>\n",
       "      <td>Haydovchilarning tormoz tizimida, rul boshqaru...</td>\n",
       "      <td>125-modda</td>\n",
       "      <td>1.0</td>\n",
       "      <td>375000</td>\n",
       "    </tr>\n",
       "    <tr>\n",
       "      <th>3</th>\n",
       "      <td>4</td>\n",
       "      <td>Haydovchilarning shaharlararo va xalqaro yo‘lo...</td>\n",
       "      <td>125-modda</td>\n",
       "      <td>3.0</td>\n",
       "      <td>1125000</td>\n",
       "    </tr>\n",
       "    <tr>\n",
       "      <th>4</th>\n",
       "      <td>5</td>\n",
       "      <td>Foydalanish belgilangan tartibda man etilgan t...</td>\n",
       "      <td>125-modda</td>\n",
       "      <td>5.0</td>\n",
       "      <td>1875000</td>\n",
       "    </tr>\n",
       "    <tr>\n",
       "      <th>...</th>\n",
       "      <td>...</td>\n",
       "      <td>...</td>\n",
       "      <td>...</td>\n",
       "      <td>...</td>\n",
       "      <td>...</td>\n",
       "    </tr>\n",
       "    <tr>\n",
       "      <th>62</th>\n",
       "      <td>70</td>\n",
       "      <td>Transport vositalari haydovchilarining belgila...</td>\n",
       "      <td>128-3-modda</td>\n",
       "      <td>0.0</td>\n",
       "      <td>0</td>\n",
       "    </tr>\n",
       "    <tr>\n",
       "      <th>63</th>\n",
       "      <td>71</td>\n",
       "      <td>Transport vositalarini boshqarish huquqini ber...</td>\n",
       "      <td>135-modda</td>\n",
       "      <td>0.5</td>\n",
       "      <td>187500</td>\n",
       "    </tr>\n",
       "    <tr>\n",
       "      <th>64</th>\n",
       "      <td>72</td>\n",
       "      <td>Transport vositalarini boshqarish huquqi boʻlm...</td>\n",
       "      <td>135-modda</td>\n",
       "      <td>0.5</td>\n",
       "      <td>187500</td>\n",
       "    </tr>\n",
       "    <tr>\n",
       "      <th>65</th>\n",
       "      <td>73</td>\n",
       "      <td>Transport vositalarini boshqarish huquqidan ma...</td>\n",
       "      <td>135-modda</td>\n",
       "      <td>10.0</td>\n",
       "      <td>3750000</td>\n",
       "    </tr>\n",
       "    <tr>\n",
       "      <th>66</th>\n",
       "      <td>74</td>\n",
       "      <td>Haydovchidan, agarda uning Oʻzbekiston Respubl...</td>\n",
       "      <td>135-modda</td>\n",
       "      <td>0.0</td>\n",
       "      <td>0</td>\n",
       "    </tr>\n",
       "  </tbody>\n",
       "</table>\n",
       "<p>67 rows × 5 columns</p>\n",
       "</div>"
      ],
      "text/plain": [
       "    Tartib                                      Qoidabuzarlik       Kodeks  \\\n",
       "0        1  Haydovchilarning transport vositalarini boshqa...    125-modda   \n",
       "1        2  Haydovchilarning belgilangan tartibda ro‘yxatd...    125-modda   \n",
       "2        3  Haydovchilarning tormoz tizimida, rul boshqaru...    125-modda   \n",
       "3        4  Haydovchilarning shaharlararo va xalqaro yo‘lo...    125-modda   \n",
       "4        5  Foydalanish belgilangan tartibda man etilgan t...    125-modda   \n",
       "..     ...                                                ...          ...   \n",
       "62      70  Transport vositalari haydovchilarining belgila...  128-3-modda   \n",
       "63      71  Transport vositalarini boshqarish huquqini ber...    135-modda   \n",
       "64      72  Transport vositalarini boshqarish huquqi boʻlm...    135-modda   \n",
       "65      73  Transport vositalarini boshqarish huquqidan ma...    135-modda   \n",
       "66      74  Haydovchidan, agarda uning Oʻzbekiston Respubl...    135-modda   \n",
       "\n",
       "    jarima_bhm  jarima_total  \n",
       "0          0.5        187500  \n",
       "1          0.5        187500  \n",
       "2          1.0        375000  \n",
       "3          3.0       1125000  \n",
       "4          5.0       1875000  \n",
       "..         ...           ...  \n",
       "62         0.0             0  \n",
       "63         0.5        187500  \n",
       "64         0.5        187500  \n",
       "65        10.0       3750000  \n",
       "66         0.0             0  \n",
       "\n",
       "[67 rows x 5 columns]"
      ]
     },
     "execution_count": 2,
     "metadata": {},
     "output_type": "execute_result"
    }
   ],
   "source": [
    "jarimalar_data"
   ]
  },
  {
   "cell_type": "code",
   "execution_count": 3,
   "id": "8154e0f3-9368-4587-85e6-f8b14a451e7a",
   "metadata": {},
   "outputs": [],
   "source": [
    "def get_most_relevant_rule(jarimalar_data, user_query, top_k=1):\n",
    "    query_embedding = model.encode(user_query, convert_to_tensor=True)\n",
    "    scores = jarimalar_data['embedding'].apply(lambda x: util.pytorch_cos_sim(query_embedding, x).item())\n",
    "    top_matches = jarimalar_data.iloc[scores.nlargest(top_k).index]\n",
    "    return top_matches"
   ]
  },
  {
   "cell_type": "code",
   "execution_count": 6,
   "id": "6db737e4-cf71-4b2b-b64a-0d571358a991",
   "metadata": {},
   "outputs": [],
   "source": [
    "# Load the model\n",
    "model = SentenceTransformer('all-MiniLM-L6-v2') \n",
    "\n",
    "jarimalar_data['embedding'] = jarimalar_data['Qoidabuzarlik'].apply(lambda x: model.encode(x, convert_to_tensor=True))\n"
   ]
  },
  {
   "cell_type": "code",
   "execution_count": 7,
   "id": "768b9e0b-77d4-43fe-b363-d764e27063a8",
   "metadata": {},
   "outputs": [],
   "source": [
    "user_query = \"Texnik ko'rikdan o'tkazilmagan mashinaga qanday jarima mavjud?\"\n",
    "most_relevant_rule = get_most_relevant_rule(jarimalar_data, user_query)"
   ]
  },
  {
   "cell_type": "code",
   "execution_count": 20,
   "id": "fe6ed316-49de-4f39-a85a-ffd6145cfc4e",
   "metadata": {},
   "outputs": [],
   "source": [
    "rule = most_relevant_rule.Qoidabuzarlik.iloc[0]"
   ]
  },
  {
   "cell_type": "code",
   "execution_count": 22,
   "id": "e3ab2706-cb48-477e-aea5-f999f8313de7",
   "metadata": {},
   "outputs": [
    {
     "data": {
      "text/plain": [
       "'Belgilangan tartibda ro‘yxatdan o‘tkazilmagan yoki majburiy texnik ko‘rikdan o‘tkazilmagan transport vositalarini yo‘lga chiqarish, transport vositalarining texnik holati va ulardan foydalanilishi uchun mas’ul bo‘lgan mansabdor shaxslarga jarima solish'"
      ]
     },
     "execution_count": 22,
     "metadata": {},
     "output_type": "execute_result"
    }
   ],
   "source": [
    "rule"
   ]
  },
  {
   "cell_type": "code",
   "execution_count": 10,
   "id": "942412f2-a4a6-4a74-b139-5fd07043c3c1",
   "metadata": {},
   "outputs": [
    {
     "data": {
      "text/plain": [
       "53    1125000\n",
       "Name: jarima_total, dtype: int64"
      ]
     },
     "execution_count": 10,
     "metadata": {},
     "output_type": "execute_result"
    }
   ],
   "source": [
    "most_relevant_rule.jarima_total"
   ]
  },
  {
   "cell_type": "code",
   "execution_count": 11,
   "id": "64d74d90-cb8b-41ed-af5e-f5c55b632ae6",
   "metadata": {},
   "outputs": [
    {
     "data": {
      "text/plain": [
       "53    3.0\n",
       "Name: jarima_bhm, dtype: float64"
      ]
     },
     "execution_count": 11,
     "metadata": {},
     "output_type": "execute_result"
    }
   ],
   "source": [
    "most_relevant_rule.jarima_bhm"
   ]
  },
  {
   "cell_type": "code",
   "execution_count": 13,
   "id": "b5b93a88-d735-4e99-a750-8cc6ca5a997b",
   "metadata": {},
   "outputs": [],
   "source": [
    "jarimalar_data.to_csv(\"embedded_jarimalar.csv\", index=False)"
   ]
  },
  {
   "cell_type": "code",
   "execution_count": 24,
   "id": "b9ce6dc8-e694-4b90-a977-8b04121d941a",
   "metadata": {},
   "outputs": [
    {
     "name": "stdout",
     "output_type": "stream",
     "text": [
      "<class 'pandas.core.frame.DataFrame'>\n",
      "RangeIndex: 67 entries, 0 to 66\n",
      "Data columns (total 6 columns):\n",
      " #   Column         Non-Null Count  Dtype  \n",
      "---  ------         --------------  -----  \n",
      " 0   Tartib         67 non-null     int64  \n",
      " 1   Qoidabuzarlik  67 non-null     object \n",
      " 2   Kodeks         66 non-null     object \n",
      " 3   jarima_bhm     67 non-null     float64\n",
      " 4   jarima_total   67 non-null     int64  \n",
      " 5   embedding      67 non-null     object \n",
      "dtypes: float64(1), int64(2), object(3)\n",
      "memory usage: 3.3+ KB\n"
     ]
    }
   ],
   "source": [
    "jarimalar_data.info()"
   ]
  },
  {
   "cell_type": "raw",
   "id": "bc301f63-6c03-47d0-b30c-fffde71f96f1",
   "metadata": {},
   "source": []
  }
 ],
 "metadata": {
  "kernelspec": {
   "display_name": "Python 3 (ipykernel)",
   "language": "python",
   "name": "python3"
  },
  "language_info": {
   "codemirror_mode": {
    "name": "ipython",
    "version": 3
   },
   "file_extension": ".py",
   "mimetype": "text/x-python",
   "name": "python",
   "nbconvert_exporter": "python",
   "pygments_lexer": "ipython3",
   "version": "3.9.18"
  }
 },
 "nbformat": 4,
 "nbformat_minor": 5
}
